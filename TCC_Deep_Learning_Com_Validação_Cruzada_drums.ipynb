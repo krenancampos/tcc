version https://git-lfs.github.com/spec/v1
oid sha256:b03551aa7d34517208f84bdad806b0650222b86556486a49eaf207706c95b162
size 4387129

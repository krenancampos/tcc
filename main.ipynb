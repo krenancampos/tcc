version https://git-lfs.github.com/spec/v1
oid sha256:862bbe1b4b61d70ecb78cbacc73383bcfb5a930e08de21e3596b0fe786950d7e
size 105950051

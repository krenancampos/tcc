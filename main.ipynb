{
 "cells": [
  {
   "cell_type": "code",
   "execution_count": 1,
   "metadata": {},
   "outputs": [
    {
     "name": "stdout",
     "output_type": "stream",
     "text": [
      "Defaulting to user installation because normal site-packages is not writeable\n",
      "Requirement already satisfied: sox in /home/kayke/.local/lib/python3.10/site-packages (1.4.0)\n",
      "Requirement already satisfied: numpy>=1.9.0 in /home/kayke/.local/lib/python3.10/site-packages (from sox) (1.25.2)\n",
      "\u001b[33mDEPRECATION: distro-info 1.1build1 has a non-standard version number. pip 24.0 will enforce this behaviour change. A possible replacement is to upgrade to a newer version of distro-info or contact the author to suggest that they release a version with a conforming version number. Discussion can be found at https://github.com/pypa/pip/issues/12063\u001b[0m\u001b[33m\n",
      "\u001b[0mNote: you may need to restart the kernel to use updated packages.\n",
      "Defaulting to user installation because normal site-packages is not writeable\n",
      "Requirement already satisfied: nussl in /home/kayke/.local/lib/python3.10/site-packages (1.1.9)\n",
      "Requirement already satisfied: jams in /home/kayke/.local/lib/python3.10/site-packages (from nussl) (0.3.4)\n",
      "Requirement already satisfied: librosa in /home/kayke/.local/lib/python3.10/site-packages (from nussl) (0.10.1)\n",
      "Requirement already satisfied: matplotlib in /home/kayke/.local/lib/python3.10/site-packages (from nussl) (3.8.0)\n",
      "Requirement already satisfied: museval in /home/kayke/.local/lib/python3.10/site-packages (from nussl) (0.4.1)\n",
      "Requirement already satisfied: musdb in /home/kayke/.local/lib/python3.10/site-packages (from nussl) (0.4.0)\n",
      "Requirement already satisfied: pyyaml in /usr/lib/python3/dist-packages (from nussl) (5.4.1)\n",
      "Requirement already satisfied: zarr in /home/kayke/.local/lib/python3.10/site-packages (from nussl) (2.16.1)\n",
      "Requirement already satisfied: ffmpy in /home/kayke/.local/lib/python3.10/site-packages (from nussl) (0.3.1)\n",
      "Requirement already satisfied: torch in /usr/local/lib/python3.10/dist-packages (from nussl) (2.0.1)\n",
      "Requirement already satisfied: pytorch-ignite in /home/kayke/.local/lib/python3.10/site-packages (from nussl) (0.4.13)\n",
      "Requirement already satisfied: tensorboard in /home/kayke/.local/lib/python3.10/site-packages (from nussl) (2.15.0)\n",
      "Requirement already satisfied: norbert in /home/kayke/.local/lib/python3.10/site-packages (from nussl) (0.2.1)\n",
      "Requirement already satisfied: tqdm in /usr/local/lib/python3.10/dist-packages (from nussl) (4.66.1)\n",
      "Requirement already satisfied: termtables in /home/kayke/.local/lib/python3.10/site-packages (from nussl) (0.2.4)\n",
      "Requirement already satisfied: gpytorch in /home/kayke/.local/lib/python3.10/site-packages (from nussl) (1.11)\n",
      "Requirement already satisfied: ffmpeg-python in /home/kayke/.local/lib/python3.10/site-packages (from nussl) (0.2.0)\n",
      "Requirement already satisfied: importlib-resources in /home/kayke/.local/lib/python3.10/site-packages (from nussl) (6.1.0)\n",
      "Requirement already satisfied: sox in /home/kayke/.local/lib/python3.10/site-packages (from nussl) (1.4.0)\n",
      "Requirement already satisfied: pyloudnorm in /home/kayke/.local/lib/python3.10/site-packages (from nussl) (0.1.1)\n",
      "Requirement already satisfied: soxbindings>=1.2.2 in /home/kayke/.local/lib/python3.10/site-packages (from nussl) (1.2.3)\n",
      "Requirement already satisfied: numpy>=1.9.0 in /home/kayke/.local/lib/python3.10/site-packages (from sox->nussl) (1.25.2)\n",
      "Requirement already satisfied: future in /home/kayke/.local/lib/python3.10/site-packages (from ffmpeg-python->nussl) (0.18.3)\n",
      "Requirement already satisfied: scikit-learn in /home/kayke/.local/lib/python3.10/site-packages (from gpytorch->nussl) (1.3.1)\n",
      "Requirement already satisfied: linear-operator>=0.5.0 in /home/kayke/.local/lib/python3.10/site-packages (from gpytorch->nussl) (0.5.2)\n",
      "Requirement already satisfied: decorator in /home/kayke/.local/lib/python3.10/site-packages (from jams->nussl) (5.1.1)\n",
      "Requirement already satisfied: jsonschema>=3.0.0 in /home/kayke/.local/lib/python3.10/site-packages (from jams->nussl) (4.19.1)\n",
      "Requirement already satisfied: mir-eval>=0.5 in /home/kayke/.local/lib/python3.10/site-packages (from jams->nussl) (0.7)\n",
      "Requirement already satisfied: pandas in /home/kayke/.local/lib/python3.10/site-packages (from jams->nussl) (2.1.1)\n",
      "Requirement already satisfied: six in /usr/lib/python3/dist-packages (from jams->nussl) (1.16.0)\n",
      "Requirement already satisfied: sortedcontainers>=2.0.0 in /home/kayke/.local/lib/python3.10/site-packages (from jams->nussl) (2.4.0)\n",
      "Requirement already satisfied: audioread>=2.1.9 in /home/kayke/.local/lib/python3.10/site-packages (from librosa->nussl) (3.0.1)\n",
      "Requirement already satisfied: scipy>=1.2.0 in /home/kayke/.local/lib/python3.10/site-packages (from librosa->nussl) (1.11.3)\n",
      "Requirement already satisfied: joblib>=0.14 in /home/kayke/.local/lib/python3.10/site-packages (from librosa->nussl) (1.3.2)\n",
      "Requirement already satisfied: numba>=0.51.0 in /home/kayke/.local/lib/python3.10/site-packages (from librosa->nussl) (0.58.0)\n",
      "Requirement already satisfied: soundfile>=0.12.1 in /home/kayke/.local/lib/python3.10/site-packages (from librosa->nussl) (0.12.1)\n",
      "Requirement already satisfied: pooch>=1.0 in /home/kayke/.local/lib/python3.10/site-packages (from librosa->nussl) (1.7.0)\n",
      "Requirement already satisfied: soxr>=0.3.2 in /home/kayke/.local/lib/python3.10/site-packages (from librosa->nussl) (0.3.7)\n",
      "Requirement already satisfied: typing-extensions>=4.1.1 in /usr/local/lib/python3.10/dist-packages (from librosa->nussl) (4.8.0)\n",
      "Requirement already satisfied: lazy-loader>=0.1 in /home/kayke/.local/lib/python3.10/site-packages (from librosa->nussl) (0.3)\n",
      "Requirement already satisfied: msgpack>=1.0 in /home/kayke/.local/lib/python3.10/site-packages (from librosa->nussl) (1.0.7)\n",
      "Requirement already satisfied: contourpy>=1.0.1 in /home/kayke/.local/lib/python3.10/site-packages (from matplotlib->nussl) (1.1.1)\n",
      "Requirement already satisfied: cycler>=0.10 in /home/kayke/.local/lib/python3.10/site-packages (from matplotlib->nussl) (0.12.1)\n",
      "Requirement already satisfied: fonttools>=4.22.0 in /home/kayke/.local/lib/python3.10/site-packages (from matplotlib->nussl) (4.43.1)\n",
      "Requirement already satisfied: kiwisolver>=1.0.1 in /home/kayke/.local/lib/python3.10/site-packages (from matplotlib->nussl) (1.4.5)\n",
      "Requirement already satisfied: packaging>=20.0 in /home/kayke/.local/lib/python3.10/site-packages (from matplotlib->nussl) (23.2)\n",
      "Requirement already satisfied: pillow>=6.2.0 in /home/kayke/.local/lib/python3.10/site-packages (from matplotlib->nussl) (10.1.0)\n",
      "Requirement already satisfied: pyparsing>=2.3.1 in /usr/lib/python3/dist-packages (from matplotlib->nussl) (2.4.7)\n",
      "Requirement already satisfied: python-dateutil>=2.7 in /home/kayke/.local/lib/python3.10/site-packages (from matplotlib->nussl) (2.8.2)\n",
      "Requirement already satisfied: stempeg>=0.2.3 in /home/kayke/.local/lib/python3.10/site-packages (from musdb->nussl) (0.2.3)\n",
      "Requirement already satisfied: pyaml in /home/kayke/.local/lib/python3.10/site-packages (from musdb->nussl) (23.9.7)\n",
      "Requirement already satisfied: simplejson>=3.19.0 in /home/kayke/.local/lib/python3.10/site-packages (from museval->nussl) (3.19.2)\n",
      "Requirement already satisfied: filelock in /usr/local/lib/python3.10/dist-packages (from torch->nussl) (3.12.4)\n",
      "Requirement already satisfied: sympy in /usr/local/lib/python3.10/dist-packages (from torch->nussl) (1.12)\n",
      "Requirement already satisfied: networkx in /usr/local/lib/python3.10/dist-packages (from torch->nussl) (3.1)\n",
      "Requirement already satisfied: jinja2 in /usr/local/lib/python3.10/dist-packages (from torch->nussl) (3.1.2)\n",
      "Requirement already satisfied: nvidia-cuda-nvrtc-cu11==11.7.99 in /usr/local/lib/python3.10/dist-packages (from torch->nussl) (11.7.99)\n",
      "Requirement already satisfied: nvidia-cuda-runtime-cu11==11.7.99 in /usr/local/lib/python3.10/dist-packages (from torch->nussl) (11.7.99)\n",
      "Requirement already satisfied: nvidia-cuda-cupti-cu11==11.7.101 in /usr/local/lib/python3.10/dist-packages (from torch->nussl) (11.7.101)\n",
      "Requirement already satisfied: nvidia-cudnn-cu11==8.5.0.96 in /usr/local/lib/python3.10/dist-packages (from torch->nussl) (8.5.0.96)\n",
      "Requirement already satisfied: nvidia-cublas-cu11==11.10.3.66 in /usr/local/lib/python3.10/dist-packages (from torch->nussl) (11.10.3.66)\n",
      "Requirement already satisfied: nvidia-cufft-cu11==10.9.0.58 in /usr/local/lib/python3.10/dist-packages (from torch->nussl) (10.9.0.58)\n",
      "Requirement already satisfied: nvidia-curand-cu11==10.2.10.91 in /usr/local/lib/python3.10/dist-packages (from torch->nussl) (10.2.10.91)\n",
      "Requirement already satisfied: nvidia-cusolver-cu11==11.4.0.1 in /usr/local/lib/python3.10/dist-packages (from torch->nussl) (11.4.0.1)\n",
      "Requirement already satisfied: nvidia-cusparse-cu11==11.7.4.91 in /usr/local/lib/python3.10/dist-packages (from torch->nussl) (11.7.4.91)\n",
      "Requirement already satisfied: nvidia-nccl-cu11==2.14.3 in /usr/local/lib/python3.10/dist-packages (from torch->nussl) (2.14.3)\n",
      "Requirement already satisfied: nvidia-nvtx-cu11==11.7.91 in /usr/local/lib/python3.10/dist-packages (from torch->nussl) (11.7.91)\n",
      "Requirement already satisfied: triton==2.0.0 in /usr/local/lib/python3.10/dist-packages (from torch->nussl) (2.0.0)\n",
      "Requirement already satisfied: setuptools in /usr/lib/python3/dist-packages (from nvidia-cublas-cu11==11.10.3.66->torch->nussl) (59.6.0)\n",
      "Requirement already satisfied: wheel in /usr/lib/python3/dist-packages (from nvidia-cublas-cu11==11.10.3.66->torch->nussl) (0.37.1)\n",
      "Requirement already satisfied: cmake in /usr/local/lib/python3.10/dist-packages (from triton==2.0.0->torch->nussl) (3.27.5)\n",
      "Requirement already satisfied: lit in /usr/local/lib/python3.10/dist-packages (from triton==2.0.0->torch->nussl) (17.0.1)\n",
      "Requirement already satisfied: absl-py>=0.4 in /home/kayke/.local/lib/python3.10/site-packages (from tensorboard->nussl) (2.0.0)\n",
      "Requirement already satisfied: grpcio>=1.48.2 in /home/kayke/.local/lib/python3.10/site-packages (from tensorboard->nussl) (1.59.0)\n",
      "Requirement already satisfied: google-auth<3,>=1.6.3 in /home/kayke/.local/lib/python3.10/site-packages (from tensorboard->nussl) (2.23.3)\n",
      "Requirement already satisfied: google-auth-oauthlib<2,>=0.5 in /home/kayke/.local/lib/python3.10/site-packages (from tensorboard->nussl) (1.1.0)\n",
      "Requirement already satisfied: markdown>=2.6.8 in /home/kayke/.local/lib/python3.10/site-packages (from tensorboard->nussl) (3.5)\n",
      "Requirement already satisfied: protobuf<4.24,>=3.19.6 in /home/kayke/.local/lib/python3.10/site-packages (from tensorboard->nussl) (4.23.4)\n",
      "Requirement already satisfied: requests<3,>=2.21.0 in /home/kayke/.local/lib/python3.10/site-packages (from tensorboard->nussl) (2.31.0)\n",
      "Requirement already satisfied: tensorboard-data-server<0.8.0,>=0.7.0 in /home/kayke/.local/lib/python3.10/site-packages (from tensorboard->nussl) (0.7.2)\n",
      "Requirement already satisfied: werkzeug>=1.0.1 in /home/kayke/.local/lib/python3.10/site-packages (from tensorboard->nussl) (3.0.1)\n",
      "Requirement already satisfied: asciitree in /home/kayke/.local/lib/python3.10/site-packages (from zarr->nussl) (0.3.3)\n",
      "Requirement already satisfied: fasteners in /home/kayke/.local/lib/python3.10/site-packages (from zarr->nussl) (0.19)\n",
      "Requirement already satisfied: numcodecs>=0.10.0 in /home/kayke/.local/lib/python3.10/site-packages (from zarr->nussl) (0.12.1)\n",
      "Requirement already satisfied: cachetools<6.0,>=2.0.0 in /home/kayke/.local/lib/python3.10/site-packages (from google-auth<3,>=1.6.3->tensorboard->nussl) (5.3.1)\n",
      "Requirement already satisfied: pyasn1-modules>=0.2.1 in /home/kayke/.local/lib/python3.10/site-packages (from google-auth<3,>=1.6.3->tensorboard->nussl) (0.3.0)\n",
      "Requirement already satisfied: rsa<5,>=3.1.4 in /home/kayke/.local/lib/python3.10/site-packages (from google-auth<3,>=1.6.3->tensorboard->nussl) (4.9)\n",
      "Requirement already satisfied: requests-oauthlib>=0.7.0 in /home/kayke/.local/lib/python3.10/site-packages (from google-auth-oauthlib<2,>=0.5->tensorboard->nussl) (1.3.1)\n",
      "Requirement already satisfied: attrs>=22.2.0 in /home/kayke/.local/lib/python3.10/site-packages (from jsonschema>=3.0.0->jams->nussl) (23.1.0)\n",
      "Requirement already satisfied: jsonschema-specifications>=2023.03.6 in /home/kayke/.local/lib/python3.10/site-packages (from jsonschema>=3.0.0->jams->nussl) (2023.7.1)\n",
      "Requirement already satisfied: referencing>=0.28.4 in /home/kayke/.local/lib/python3.10/site-packages (from jsonschema>=3.0.0->jams->nussl) (0.30.2)\n",
      "Requirement already satisfied: rpds-py>=0.7.1 in /home/kayke/.local/lib/python3.10/site-packages (from jsonschema>=3.0.0->jams->nussl) (0.10.6)\n",
      "Requirement already satisfied: jaxtyping>=0.2.9 in /home/kayke/.local/lib/python3.10/site-packages (from linear-operator>=0.5.0->gpytorch->nussl) (0.2.23)\n",
      "Requirement already satisfied: typeguard~=2.13.3 in /home/kayke/.local/lib/python3.10/site-packages (from linear-operator>=0.5.0->gpytorch->nussl) (2.13.3)\n",
      "Requirement already satisfied: llvmlite<0.42,>=0.41.0dev0 in /home/kayke/.local/lib/python3.10/site-packages (from numba>=0.51.0->librosa->nussl) (0.41.0)\n",
      "Requirement already satisfied: pytz>=2020.1 in /home/kayke/.local/lib/python3.10/site-packages (from pandas->jams->nussl) (2023.3.post1)\n",
      "Requirement already satisfied: tzdata>=2022.1 in /home/kayke/.local/lib/python3.10/site-packages (from pandas->jams->nussl) (2023.3)\n",
      "Requirement already satisfied: platformdirs>=2.5.0 in /home/kayke/.local/lib/python3.10/site-packages (from pooch>=1.0->librosa->nussl) (3.11.0)\n",
      "Requirement already satisfied: charset-normalizer<4,>=2 in /home/kayke/.local/lib/python3.10/site-packages (from requests<3,>=2.21.0->tensorboard->nussl) (3.3.0)\n",
      "Requirement already satisfied: idna<4,>=2.5 in /home/kayke/.local/lib/python3.10/site-packages (from requests<3,>=2.21.0->tensorboard->nussl) (3.4)\n",
      "Requirement already satisfied: urllib3<3,>=1.21.1 in /home/kayke/.local/lib/python3.10/site-packages (from requests<3,>=2.21.0->tensorboard->nussl) (2.0.6)\n",
      "Requirement already satisfied: certifi>=2017.4.17 in /home/kayke/.local/lib/python3.10/site-packages (from requests<3,>=2.21.0->tensorboard->nussl) (2023.7.22)\n",
      "Requirement already satisfied: threadpoolctl>=2.0.0 in /home/kayke/.local/lib/python3.10/site-packages (from scikit-learn->gpytorch->nussl) (3.2.0)\n",
      "Requirement already satisfied: cffi>=1.0 in /home/kayke/.local/lib/python3.10/site-packages (from soundfile>=0.12.1->librosa->nussl) (1.16.0)\n",
      "Requirement already satisfied: MarkupSafe>=2.1.1 in /usr/local/lib/python3.10/dist-packages (from werkzeug>=1.0.1->tensorboard->nussl) (2.1.3)\n",
      "Requirement already satisfied: mpmath>=0.19 in /usr/local/lib/python3.10/dist-packages (from sympy->torch->nussl) (1.3.0)\n",
      "Requirement already satisfied: pycparser in /home/kayke/.local/lib/python3.10/site-packages (from cffi>=1.0->soundfile>=0.12.1->librosa->nussl) (2.21)\n",
      "Requirement already satisfied: pyasn1<0.6.0,>=0.4.6 in /home/kayke/.local/lib/python3.10/site-packages (from pyasn1-modules>=0.2.1->google-auth<3,>=1.6.3->tensorboard->nussl) (0.5.0)\n",
      "Requirement already satisfied: oauthlib>=3.0.0 in /usr/lib/python3/dist-packages (from requests-oauthlib>=0.7.0->google-auth-oauthlib<2,>=0.5->tensorboard->nussl) (3.2.0)\n",
      "\u001b[33mDEPRECATION: distro-info 1.1build1 has a non-standard version number. pip 24.0 will enforce this behaviour change. A possible replacement is to upgrade to a newer version of distro-info or contact the author to suggest that they release a version with a conforming version number. Discussion can be found at https://github.com/pypa/pip/issues/12063\u001b[0m\u001b[33m\n",
      "\u001b[0mNote: you may need to restart the kernel to use updated packages.\n",
      "Defaulting to user installation because normal site-packages is not writeable\n",
      "Requirement already satisfied: common in /home/kayke/.local/lib/python3.10/site-packages (0.1.2)\n",
      "\u001b[33mDEPRECATION: distro-info 1.1build1 has a non-standard version number. pip 24.0 will enforce this behaviour change. A possible replacement is to upgrade to a newer version of distro-info or contact the author to suggest that they release a version with a conforming version number. Discussion can be found at https://github.com/pypa/pip/issues/12063\u001b[0m\u001b[33m\n",
      "\u001b[0mNote: you may need to restart the kernel to use updated packages.\n"
     ]
    }
   ],
   "source": [
    "%pip install sox\n",
    "%pip install nussl\n",
    "%pip install common"
   ]
  },
  {
   "cell_type": "code",
   "execution_count": 2,
   "metadata": {},
   "outputs": [],
   "source": [
    "%%capture\n",
    "%pip install git+https://github.com/source-separation/tutorial"
   ]
  },
  {
   "cell_type": "code",
   "execution_count": 3,
   "metadata": {},
   "outputs": [],
   "source": [
    "# Do our imports\n",
    "import warnings\n",
    "warnings.simplefilter('ignore')\n",
    "import nussl\n",
    "import matplotlib.pyplot as plt\n",
    "import numpy as np\n",
    "from pprint import pprint\n",
    "from common import viz"
   ]
  },
  {
   "cell_type": "code",
   "execution_count": 2,
   "metadata": {},
   "outputs": [
    {
     "name": "stderr",
     "output_type": "stream",
     "text": [
      "Loading tracks info from provider moisesdb_v0.1: 100%|██████████| 240/240 [00:00<00:00, 650279.69it/s]\n"
     ]
    }
   ],
   "source": [
    "from moisesdb.dataset import MoisesDB\n",
    "\n",
    "db = MoisesDB(\n",
    "    data_path='./moisesdb',\n",
    "    sample_rate=44100\n",
    ")\n",
    "\n",
    "n_songs = len(db)\n",
    "track = db[0]\n",
    "stems = track.stems"
   ]
  },
  {
   "cell_type": "code",
   "execution_count": 3,
   "metadata": {},
   "outputs": [
    {
     "name": "stdout",
     "output_type": "stream",
     "text": [
      "dict_keys(['vocals', 'bass', 'drums', 'other_keys'])\n"
     ]
    }
   ],
   "source": [
    "print(stems.keys())"
   ]
  }
 ],
 "metadata": {
  "kernelspec": {
   "display_name": "Python 3",
   "language": "python",
   "name": "python3"
  },
  "language_info": {
   "codemirror_mode": {
    "name": "ipython",
    "version": 3
   },
   "file_extension": ".py",
   "mimetype": "text/x-python",
   "name": "python",
   "nbconvert_exporter": "python",
   "pygments_lexer": "ipython3",
   "version": "3.10.12"
  }
 },
 "nbformat": 4,
 "nbformat_minor": 2
}

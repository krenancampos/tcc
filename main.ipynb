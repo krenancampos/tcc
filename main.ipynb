version https://git-lfs.github.com/spec/v1
oid sha256:a141684622e9a0c26b3c4c5f4025d1435bdc3d3ae9ab984672b50e4f90199c82
size 9391

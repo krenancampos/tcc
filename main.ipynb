{
 "cells": [
  {
   "cell_type": "code",
   "execution_count": 1,
   "metadata": {},
   "outputs": [
    {
     "name": "stderr",
     "output_type": "stream",
     "text": [
      "Loading tracks info from provider moisesdb_v0.1: 100%|██████████| 240/240 [00:00<00:00, 1203.73it/s]\n"
     ]
    }
   ],
   "source": [
    "from moisesdb.dataset import MoisesDB\n",
    "\n",
    "db = MoisesDB(\n",
    "    data_path='./moisesdb',\n",
    "    sample_rate=44100\n",
    ")\n",
    "\n",
    "n_songs = len(db)\n",
    "track = db[0]\n",
    "stems = track.stems"
   ]
  },
  {
   "cell_type": "code",
   "execution_count": 4,
   "metadata": {},
   "outputs": [
    {
     "name": "stdout",
     "output_type": "stream",
     "text": [
      "dict_keys(['vocals', 'bass', 'drums', 'other_keys'])\n"
     ]
    }
   ],
   "source": [
    "print(stems.keys())"
   ]
  }
 ],
 "metadata": {
  "kernelspec": {
   "display_name": "Python 3",
   "language": "python",
   "name": "python3"
  },
  "language_info": {
   "codemirror_mode": {
    "name": "ipython",
    "version": 3
   },
   "file_extension": ".py",
   "mimetype": "text/x-python",
   "name": "python",
   "nbconvert_exporter": "python",
   "pygments_lexer": "ipython3",
   "version": "3.10.12"
  }
 },
 "nbformat": 4,
 "nbformat_minor": 2
}

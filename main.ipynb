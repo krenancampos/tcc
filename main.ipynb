version https://git-lfs.github.com/spec/v1
oid sha256:2d606dd9fb6ae058540e1b8217ca125d3bcbbfb94a3b53db28160085c4d8c73c
size 25805598

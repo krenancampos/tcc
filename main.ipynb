version https://git-lfs.github.com/spec/v1
oid sha256:c58375a2c333cc5ac657fc2efbf62293586d1b22a4f49cc8b8cc08b89d3a0e7f
size 6055810

version https://git-lfs.github.com/spec/v1
oid sha256:e3318aec31d4eb5e441174db22e03515dd15353bb0ff71eab61cd543e9e3030a
size 25805398

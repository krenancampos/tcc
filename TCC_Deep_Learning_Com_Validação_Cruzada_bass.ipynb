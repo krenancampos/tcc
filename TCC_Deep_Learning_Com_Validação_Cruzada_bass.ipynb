version https://git-lfs.github.com/spec/v1
oid sha256:8bd5e83517ea46e303a8dc7e30af054fba289a1aed99e5e53536d1bbc485d7a8
size 2927693

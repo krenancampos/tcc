version https://git-lfs.github.com/spec/v1
oid sha256:b0e77039b1bb244624a64fc15479b9184747f1f802ec1182a7a92ec12854f0e2
size 2366

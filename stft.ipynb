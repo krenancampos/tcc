version https://git-lfs.github.com/spec/v1
oid sha256:074bf60aa6c3ed2d2cbd7dd8b37133914f18232d95c1243e2cc4e120791aed37
size 66052

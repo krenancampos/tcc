version https://git-lfs.github.com/spec/v1
oid sha256:8126b912731ab8cbcbf98a76ab4fb74707c842b6f3d7559690ba27859d750990
size 8619

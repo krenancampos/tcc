version https://git-lfs.github.com/spec/v1
oid sha256:9c27c286c5e1261dec8b28bc02ae711ad86b5a037456dc6b6980aebc157749ed
size 8462
